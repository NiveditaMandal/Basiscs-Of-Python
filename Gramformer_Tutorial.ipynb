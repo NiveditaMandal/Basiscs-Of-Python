{
  "nbformat": 4,
  "nbformat_minor": 0,
  "metadata": {
    "colab": {
      "name": "Gramformer Tutorial.ipynb",
      "provenance": [],
      "authorship_tag": "ABX9TyP85bNWYLhp5kguvzFibq1A",
      "include_colab_link": true
    },
    "kernelspec": {
      "name": "python3",
      "display_name": "Python 3"
    },
    "language_info": {
      "name": "python"
    }
  },
  "cells": [
    {
      "cell_type": "markdown",
      "metadata": {
        "id": "view-in-github",
        "colab_type": "text"
      },
      "source": [
        "<a href=\"https://colab.research.google.com/github/NiveditaMandal/Basiscs-Of-Python/blob/master/Gramformer_Tutorial.ipynb\" target=\"_parent\"><img src=\"https://colab.research.google.com/assets/colab-badge.svg\" alt=\"Open In Colab\"/></a>"
      ]
    },
    {
      "cell_type": "code",
      "execution_count": null,
      "metadata": {
        "colab": {
          "base_uri": "https://localhost:8080/"
        },
        "id": "52b332w_YsFA",
        "outputId": "9648b8aa-ac6d-4367-de12-d25e0093c4ca"
      },
      "outputs": [
        {
          "output_type": "stream",
          "name": "stdout",
          "text": [
            "Looking in links: https://download.pytorch.org/whl/lts/1.8/torch_lts.html\n",
            "Collecting torch==1.8.1+cu111\n",
            "  Downloading https://download.pytorch.org/whl/lts/1.8/cu111/torch-1.8.1%2Bcu111-cp37-cp37m-linux_x86_64.whl (1982.2 MB)\n",
            "\u001b[K     |█████████████▌                  | 834.1 MB 1.2 MB/s eta 0:15:35tcmalloc: large alloc 1147494400 bytes == 0x55cfff4d0000 @  0x7f1be6a4f615 0x55cfc6cd917c 0x55cfc6db947a 0x55cfc6cdbf9d 0x55cfc6dcdd4d 0x55cfc6d4fec8 0x55cfc6d4aa2e 0x55cfc6cdd88a 0x55cfc6d4fd30 0x55cfc6d4aa2e 0x55cfc6cdd88a 0x55cfc6d4c719 0x55cfc6dceb76 0x55cfc6d4bd95 0x55cfc6dceb76 0x55cfc6d4bd95 0x55cfc6dceb76 0x55cfc6d4bd95 0x55cfc6cddce9 0x55cfc6d21579 0x55cfc6cdc902 0x55cfc6d4fc4d 0x55cfc6d4aa2e 0x55cfc6cdd88a 0x55cfc6d4c719 0x55cfc6d4aa2e 0x55cfc6cdd88a 0x55cfc6d4b8f6 0x55cfc6cdd7aa 0x55cfc6d4bb4f 0x55cfc6d4aa2e\n",
            "\u001b[K     |█████████████████               | 1055.7 MB 1.3 MB/s eta 0:12:11tcmalloc: large alloc 1434370048 bytes == 0x55d043b26000 @  0x7f1be6a4f615 0x55cfc6cd917c 0x55cfc6db947a 0x55cfc6cdbf9d 0x55cfc6dcdd4d 0x55cfc6d4fec8 0x55cfc6d4aa2e 0x55cfc6cdd88a 0x55cfc6d4fd30 0x55cfc6d4aa2e 0x55cfc6cdd88a 0x55cfc6d4c719 0x55cfc6dceb76 0x55cfc6d4bd95 0x55cfc6dceb76 0x55cfc6d4bd95 0x55cfc6dceb76 0x55cfc6d4bd95 0x55cfc6cddce9 0x55cfc6d21579 0x55cfc6cdc902 0x55cfc6d4fc4d 0x55cfc6d4aa2e 0x55cfc6cdd88a 0x55cfc6d4c719 0x55cfc6d4aa2e 0x55cfc6cdd88a 0x55cfc6d4b8f6 0x55cfc6cdd7aa 0x55cfc6d4bb4f 0x55cfc6d4aa2e\n",
            "\u001b[K     |█████████████████████▋          | 1336.2 MB 1.3 MB/s eta 0:08:25tcmalloc: large alloc 1792966656 bytes == 0x55cfc8958000 @  0x7f1be6a4f615 0x55cfc6cd917c 0x55cfc6db947a 0x55cfc6cdbf9d 0x55cfc6dcdd4d 0x55cfc6d4fec8 0x55cfc6d4aa2e 0x55cfc6cdd88a 0x55cfc6d4fd30 0x55cfc6d4aa2e 0x55cfc6cdd88a 0x55cfc6d4c719 0x55cfc6dceb76 0x55cfc6d4bd95 0x55cfc6dceb76 0x55cfc6d4bd95 0x55cfc6dceb76 0x55cfc6d4bd95 0x55cfc6cddce9 0x55cfc6d21579 0x55cfc6cdc902 0x55cfc6d4fc4d 0x55cfc6d4aa2e 0x55cfc6cdd88a 0x55cfc6d4c719 0x55cfc6d4aa2e 0x55cfc6cdd88a 0x55cfc6d4b8f6 0x55cfc6cdd7aa 0x55cfc6d4bb4f 0x55cfc6d4aa2e\n",
            "\u001b[K     |███████████████████████████▎    | 1691.1 MB 1.1 MB/s eta 0:04:28tcmalloc: large alloc 2241208320 bytes == 0x55d033740000 @  0x7f1be6a4f615 0x55cfc6cd917c 0x55cfc6db947a 0x55cfc6cdbf9d 0x55cfc6dcdd4d 0x55cfc6d4fec8 0x55cfc6d4aa2e 0x55cfc6cdd88a 0x55cfc6d4fd30 0x55cfc6d4aa2e 0x55cfc6cdd88a 0x55cfc6d4c719 0x55cfc6dceb76 0x55cfc6d4bd95 0x55cfc6dceb76 0x55cfc6d4bd95 0x55cfc6dceb76 0x55cfc6d4bd95 0x55cfc6cddce9 0x55cfc6d21579 0x55cfc6cdc902 0x55cfc6d4fc4d 0x55cfc6d4aa2e 0x55cfc6cdd88a 0x55cfc6d4c719 0x55cfc6d4aa2e 0x55cfc6cdd88a 0x55cfc6d4b8f6 0x55cfc6cdd7aa 0x55cfc6d4bb4f 0x55cfc6d4aa2e\n",
            "\u001b[K     |████████████████████████████████| 1982.2 MB 1.4 MB/s eta 0:00:01tcmalloc: large alloc 1982177280 bytes == 0x55d0b90a2000 @  0x7f1be6a4e1e7 0x55cfc6d0f407 0x55cfc6cd917c 0x55cfc6db947a 0x55cfc6cdbf9d 0x55cfc6dcdd4d 0x55cfc6d4fec8 0x55cfc6d4aa2e 0x55cfc6cdd88a 0x55cfc6d4bb4f 0x55cfc6d4aa2e 0x55cfc6cdd88a 0x55cfc6d4bb4f 0x55cfc6d4aa2e 0x55cfc6cdd88a 0x55cfc6d4bb4f 0x55cfc6d4aa2e 0x55cfc6cdd88a 0x55cfc6d4bb4f 0x55cfc6d4aa2e 0x55cfc6cdd88a 0x55cfc6d4bb4f 0x55cfc6cdd7aa 0x55cfc6d4bb4f 0x55cfc6d4aa2e 0x55cfc6cdd88a 0x55cfc6d4c719 0x55cfc6d4aa2e 0x55cfc6cdd88a 0x55cfc6d4c719 0x55cfc6d4aa2e\n",
            "tcmalloc: large alloc 2477727744 bytes == 0x55d1a3766000 @  0x7f1be6a4f615 0x55cfc6cd917c 0x55cfc6db947a 0x55cfc6cdbf9d 0x55cfc6dcdd4d 0x55cfc6d4fec8 0x55cfc6d4aa2e 0x55cfc6cdd88a 0x55cfc6d4bb4f 0x55cfc6d4aa2e 0x55cfc6cdd88a 0x55cfc6d4bb4f 0x55cfc6d4aa2e 0x55cfc6cdd88a 0x55cfc6d4bb4f 0x55cfc6d4aa2e 0x55cfc6cdd88a 0x55cfc6d4bb4f 0x55cfc6d4aa2e 0x55cfc6cdd88a 0x55cfc6d4bb4f 0x55cfc6cdd7aa 0x55cfc6d4bb4f 0x55cfc6d4aa2e 0x55cfc6cdd88a 0x55cfc6d4c719 0x55cfc6d4aa2e 0x55cfc6cdd88a 0x55cfc6d4c719 0x55cfc6d4aa2e 0x55cfc6cddf21\n",
            "\u001b[K     |████████████████████████████████| 1982.2 MB 2.5 kB/s \n",
            "\u001b[?25hCollecting torchvision==0.9.1+cu111\n",
            "  Downloading https://download.pytorch.org/whl/lts/1.8/cu111/torchvision-0.9.1%2Bcu111-cp37-cp37m-linux_x86_64.whl (17.6 MB)\n",
            "\u001b[K     |████████████████████████████████| 17.6 MB 63.1 MB/s \n",
            "\u001b[?25hCollecting torchaudio===0.8.1\n",
            "  Downloading torchaudio-0.8.1-cp37-cp37m-manylinux1_x86_64.whl (1.9 MB)\n",
            "\u001b[K     |████████████████████████████████| 1.9 MB 4.3 MB/s \n",
            "\u001b[?25hRequirement already satisfied: numpy in /usr/local/lib/python3.7/dist-packages (from torch==1.8.1+cu111) (1.21.5)\n",
            "Requirement already satisfied: typing-extensions in /usr/local/lib/python3.7/dist-packages (from torch==1.8.1+cu111) (3.10.0.2)\n",
            "Requirement already satisfied: pillow>=4.1.1 in /usr/local/lib/python3.7/dist-packages (from torchvision==0.9.1+cu111) (7.1.2)\n",
            "Installing collected packages: torch, torchvision, torchaudio\n",
            "  Attempting uninstall: torch\n",
            "    Found existing installation: torch 1.10.0+cu111\n",
            "    Uninstalling torch-1.10.0+cu111:\n",
            "      Successfully uninstalled torch-1.10.0+cu111\n"
          ]
        }
      ],
      "source": [
        "!pip install torch==1.8.1+cu111 torchvision==0.9.1+cu111 torchaudio===0.8.1 -f https://download.pytorch.org/whl/lts/1.8/torch_lts.html"
      ]
    },
    {
      "cell_type": "code",
      "source": [
        "!pip install git+https://github.com/PrithivirajDamodaran/Gramformer.git"
      ],
      "metadata": {
        "id": "fA_CjfSVZJJO"
      },
      "execution_count": null,
      "outputs": []
    },
    {
      "cell_type": "code",
      "source": [
        "from gramformer import Gramformer"
      ],
      "metadata": {
        "id": "2SbQ3YREZNxb"
      },
      "execution_count": null,
      "outputs": []
    },
    {
      "cell_type": "code",
      "source": [
        "gf = Gramformer(models=3, use_gpu=True) # 0 = detector, 1 = highlighter, 2 = corrector, 3 = all"
      ],
      "metadata": {
        "id": "HzESnr1qZQoL"
      },
      "execution_count": null,
      "outputs": []
    },
    {
      "cell_type": "code",
      "source": [
        "gf.correct('My camera battery a dead')"
      ],
      "metadata": {
        "id": "mJ6WjMqyZTFK"
      },
      "execution_count": null,
      "outputs": []
    },
    {
      "cell_type": "code",
      "source": [
        "sentences = [\n",
        "    'I like for walks', \n",
        "    'World is flat', \n",
        "    'Red a color', \n",
        "    'I wish my Computer was run faster.'\n",
        "]"
      ],
      "metadata": {
        "id": "66ptwHLiZVi2"
      },
      "execution_count": null,
      "outputs": []
    },
    {
      "cell_type": "code",
      "source": [
        "for sentence in sentences:\n",
        "    res = gf.correct(sentence)\n",
        "    print(res[0])"
      ],
      "metadata": {
        "id": "HH5FjJskZZaY"
      },
      "execution_count": null,
      "outputs": []
    },
    {
      "cell_type": "code",
      "source": [
        "!pip install gradio"
      ],
      "metadata": {
        "id": "Zub0PgUkZchb"
      },
      "execution_count": null,
      "outputs": []
    },
    {
      "cell_type": "code",
      "source": [
        "import gradio as gr"
      ],
      "metadata": {
        "id": "qjpiFS4XZe9R"
      },
      "execution_count": null,
      "outputs": []
    },
    {
      "cell_type": "code",
      "source": [
        "def correct(sentence):\n",
        "    res = gf.correct(sentence) # Gramformer correct\n",
        "    return res[0] # Return first value in res array"
      ],
      "metadata": {
        "id": "Pr-jXlIAZhEl"
      },
      "execution_count": null,
      "outputs": []
    },
    {
      "cell_type": "code",
      "source": [
        "app_inputs = gr.inputs.Textbox(lines=2, placeholder=\"Enter sentence here...\")"
      ],
      "metadata": {
        "id": "fl9Urs5dZjRJ"
      },
      "execution_count": null,
      "outputs": []
    },
    {
      "cell_type": "code",
      "source": [
        "interface = gr.Interface(fn=correct, \n",
        "                        inputs=app_inputs,\n",
        "                         outputs='text', \n",
        "                        title='Sup, I\\'m Gramformer')"
      ],
      "metadata": {
        "id": "pa2uQGRvZlkz"
      },
      "execution_count": null,
      "outputs": []
    },
    {
      "cell_type": "code",
      "source": [
        "interface.launch()"
      ],
      "metadata": {
        "id": "iouBO7bsZn0A"
      },
      "execution_count": null,
      "outputs": []
    }
  ]
}