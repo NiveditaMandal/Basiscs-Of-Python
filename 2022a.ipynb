{
  "nbformat": 4,
  "nbformat_minor": 0,
  "metadata": {
    "colab": {
      "name": "2022a.ipynb",
      "provenance": [],
      "collapsed_sections": [],
      "authorship_tag": "ABX9TyOK+o59ZPfEj6D52c3ihfX1",
      "include_colab_link": true
    },
    "kernelspec": {
      "name": "python3",
      "display_name": "Python 3"
    },
    "language_info": {
      "name": "python"
    }
  },
  "cells": [
    {
      "cell_type": "markdown",
      "metadata": {
        "id": "view-in-github",
        "colab_type": "text"
      },
      "source": [
        "<a href=\"https://colab.research.google.com/github/NiveditaMandal/Basiscs-Of-Python/blob/master/2022a.ipynb\" target=\"_parent\"><img src=\"https://colab.research.google.com/assets/colab-badge.svg\" alt=\"Open In Colab\"/></a>"
      ]
    },
    {
      "cell_type": "code",
      "execution_count": 1,
      "metadata": {
        "colab": {
          "base_uri": "https://localhost:8080/"
        },
        "id": "RwavjBrDdwnE",
        "outputId": "921b3428-6313-4243-88da-071cd38ae2ce"
      },
      "outputs": [
        {
          "output_type": "stream",
          "name": "stdout",
          "text": [
            "Wrong words : ['Data Scence', 'Algorthim']\n",
            "Corrected Words are :\n",
            "Data Science Algorthim "
          ]
        }
      ],
      "source": [
        "from textblob import TextBlob\n",
        "words = [\"Data Scence\", \"Algorthim\"]\n",
        "corrected_words = []\n",
        "for i in words:\n",
        "    corrected_words.append(TextBlob(i))\n",
        "print(\"Wrong words :\", words)\n",
        "print(\"Corrected Words are :\")\n",
        "for i in corrected_words:\n",
        "    print(i.correct(), end=\" \")"
      ]
    }
  ]
}