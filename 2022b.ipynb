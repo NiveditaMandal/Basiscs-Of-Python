{
  "nbformat": 4,
  "nbformat_minor": 0,
  "metadata": {
    "colab": {
      "name": "2022b.ipynb",
      "provenance": [],
      "collapsed_sections": [],
      "authorship_tag": "ABX9TyMoPnt79c0tTvLZFm4M2IkQ",
      "include_colab_link": true
    },
    "kernelspec": {
      "name": "python3",
      "display_name": "Python 3"
    },
    "language_info": {
      "name": "python"
    }
  },
  "cells": [
    {
      "cell_type": "markdown",
      "metadata": {
        "id": "view-in-github",
        "colab_type": "text"
      },
      "source": [
        "<a href=\"https://colab.research.google.com/github/NiveditaMandal/Basiscs-Of-Python/blob/master/2022b.ipynb\" target=\"_parent\"><img src=\"https://colab.research.google.com/assets/colab-badge.svg\" alt=\"Open In Colab\"/></a>"
      ]
    },
    {
      "cell_type": "code",
      "source": [
        "import requests\n",
        "word=input(\"Enter sentence: \")\n",
        "#x=len(word.split())\n",
        "urls=\"https://www.google.com/search?q=\"+word+\"&oq=\"+word+\"&aqs=chrome..69i57j46i10j0i10l7.3288j0j9&sourceid=chrome&ie=UTF-8\"\n",
        "x=requests.get(urls)\n",
        "zz=str(x.content)\n",
        "ss='''href=\"/search?ie'''\n",
        "y=zz.find(ss)\n",
        "ls1=zz[y:].split(\"&amp\")\n",
        "z=ls1[1][3:].split(\"+\")\n",
        "final=\" \".join(z)\n",
        "if '%' in final:\n",
        "    print(\"corrected word is:\", word)\n",
        "else:\n",
        "    print(\"corrected word is:\",final)"
      ],
      "metadata": {
        "colab": {
          "base_uri": "https://localhost:8080/"
        },
        "id": "v0nbQbOeiXMh",
        "outputId": "ea3d793e-f5f8-4805-81d9-a87b0df28e75"
      },
      "execution_count": 8,
      "outputs": [
        {
          "output_type": "stream",
          "name": "stdout",
          "text": [
            "Enter sentence:  I need an kilogram of sugar.\n",
            "corrected word is: I need a kilogram of sugar.\n"
          ]
        }
      ]
    }
  ]
}